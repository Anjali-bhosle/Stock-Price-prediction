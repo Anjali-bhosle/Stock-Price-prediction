{
  "nbformat": 4,
  "nbformat_minor": 0,
  "metadata": {
    "colab": {
      "name": "Stock price pred.ipynb",
      "provenance": [],
      "collapsed_sections": []
    },
    "kernelspec": {
      "name": "python3",
      "display_name": "Python 3"
    },
    "language_info": {
      "name": "python"
    }
  },
  "cells": [
    {
      "cell_type": "code",
      "execution_count": null,
      "metadata": {
        "id": "TLyGZgNI9fep"
      },
      "outputs": [],
      "source": [
        "import pandas as pd\n",
        "import pandas_datareader as pdr"
      ]
    },
    {
      "cell_type": "code",
      "source": [
        "key='5afddcffb85d2f8ea65323fdf0cd362d07b7b600'"
      ],
      "metadata": {
        "id": "m8pa_Lr8Zuk3"
      },
      "execution_count": null,
      "outputs": []
    },
    {
      "cell_type": "code",
      "source": [
        "df=pdr.get_data_tiingo('AAPL',api_key=key)"
      ],
      "metadata": {
        "colab": {
          "base_uri": "https://localhost:8080/"
        },
        "id": "yDIe5FHK9jHr",
        "outputId": "6da4d35f-f989-47df-d9ac-ec4979c48d16"
      },
      "execution_count": null,
      "outputs": [
        {
          "output_type": "stream",
          "name": "stderr",
          "text": [
            "/usr/local/lib/python3.7/dist-packages/pandas_datareader/tiingo.py:234: FutureWarning: In a future version of pandas all arguments of concat except for the argument 'objs' will be keyword-only\n",
            "  return pd.concat(dfs, self._concat_axis)\n"
          ]
        }
      ]
    },
    {
      "cell_type": "code",
      "source": [
        "df.to_csv('Aapl.csv')"
      ],
      "metadata": {
        "id": "ZfaTX5JL9jKy"
      },
      "execution_count": null,
      "outputs": []
    },
    {
      "cell_type": "code",
      "source": [
        ""
      ],
      "metadata": {
        "id": "PwQbiH-R9jOM"
      },
      "execution_count": null,
      "outputs": []
    },
    {
      "cell_type": "code",
      "source": [
        "df2=pd.read_csv('Aapl.csv')"
      ],
      "metadata": {
        "id": "x0GtCiTS-OsV"
      },
      "execution_count": null,
      "outputs": []
    },
    {
      "cell_type": "code",
      "source": [
        "df2.head()"
      ],
      "metadata": {
        "colab": {
          "base_uri": "https://localhost:8080/",
          "height": 206
        },
        "id": "zsba3fUf-mEi",
        "outputId": "7b1aadf5-0726-42bf-803c-cfd2264999ca"
      },
      "execution_count": null,
      "outputs": [
        {
          "output_type": "execute_result",
          "data": {
            "text/html": [
              "\n",
              "  <div id=\"df-122a9777-dcbf-42e6-be32-5251f1a46144\">\n",
              "    <div class=\"colab-df-container\">\n",
              "      <div>\n",
              "<style scoped>\n",
              "    .dataframe tbody tr th:only-of-type {\n",
              "        vertical-align: middle;\n",
              "    }\n",
              "\n",
              "    .dataframe tbody tr th {\n",
              "        vertical-align: top;\n",
              "    }\n",
              "\n",
              "    .dataframe thead th {\n",
              "        text-align: right;\n",
              "    }\n",
              "</style>\n",
              "<table border=\"1\" class=\"dataframe\">\n",
              "  <thead>\n",
              "    <tr style=\"text-align: right;\">\n",
              "      <th></th>\n",
              "      <th>symbol</th>\n",
              "      <th>date</th>\n",
              "      <th>close</th>\n",
              "      <th>high</th>\n",
              "      <th>low</th>\n",
              "      <th>open</th>\n",
              "      <th>volume</th>\n",
              "      <th>adjClose</th>\n",
              "      <th>adjHigh</th>\n",
              "      <th>adjLow</th>\n",
              "      <th>adjOpen</th>\n",
              "      <th>adjVolume</th>\n",
              "      <th>divCash</th>\n",
              "      <th>splitFactor</th>\n",
              "    </tr>\n",
              "  </thead>\n",
              "  <tbody>\n",
              "    <tr>\n",
              "      <th>0</th>\n",
              "      <td>AAPL</td>\n",
              "      <td>2017-02-21 00:00:00+00:00</td>\n",
              "      <td>136.70</td>\n",
              "      <td>136.750</td>\n",
              "      <td>135.98</td>\n",
              "      <td>136.23</td>\n",
              "      <td>24507156</td>\n",
              "      <td>32.261723</td>\n",
              "      <td>32.273523</td>\n",
              "      <td>32.091800</td>\n",
              "      <td>32.150801</td>\n",
              "      <td>98028624</td>\n",
              "      <td>0.0</td>\n",
              "      <td>1.0</td>\n",
              "    </tr>\n",
              "    <tr>\n",
              "      <th>1</th>\n",
              "      <td>AAPL</td>\n",
              "      <td>2017-02-22 00:00:00+00:00</td>\n",
              "      <td>137.11</td>\n",
              "      <td>137.120</td>\n",
              "      <td>136.11</td>\n",
              "      <td>136.43</td>\n",
              "      <td>20836932</td>\n",
              "      <td>32.358485</td>\n",
              "      <td>32.360845</td>\n",
              "      <td>32.122481</td>\n",
              "      <td>32.198002</td>\n",
              "      <td>83347728</td>\n",
              "      <td>0.0</td>\n",
              "      <td>1.0</td>\n",
              "    </tr>\n",
              "    <tr>\n",
              "      <th>2</th>\n",
              "      <td>AAPL</td>\n",
              "      <td>2017-02-23 00:00:00+00:00</td>\n",
              "      <td>136.53</td>\n",
              "      <td>137.480</td>\n",
              "      <td>136.30</td>\n",
              "      <td>137.38</td>\n",
              "      <td>20788186</td>\n",
              "      <td>32.221602</td>\n",
              "      <td>32.445806</td>\n",
              "      <td>32.167321</td>\n",
              "      <td>32.422206</td>\n",
              "      <td>83152744</td>\n",
              "      <td>0.0</td>\n",
              "      <td>1.0</td>\n",
              "    </tr>\n",
              "    <tr>\n",
              "      <th>3</th>\n",
              "      <td>AAPL</td>\n",
              "      <td>2017-02-24 00:00:00+00:00</td>\n",
              "      <td>136.66</td>\n",
              "      <td>136.660</td>\n",
              "      <td>135.28</td>\n",
              "      <td>135.91</td>\n",
              "      <td>21776585</td>\n",
              "      <td>32.252283</td>\n",
              "      <td>32.252283</td>\n",
              "      <td>31.926598</td>\n",
              "      <td>32.075280</td>\n",
              "      <td>87106340</td>\n",
              "      <td>0.0</td>\n",
              "      <td>1.0</td>\n",
              "    </tr>\n",
              "    <tr>\n",
              "      <th>4</th>\n",
              "      <td>AAPL</td>\n",
              "      <td>2017-02-27 00:00:00+00:00</td>\n",
              "      <td>136.93</td>\n",
              "      <td>137.435</td>\n",
              "      <td>136.28</td>\n",
              "      <td>137.14</td>\n",
              "      <td>20257426</td>\n",
              "      <td>32.316004</td>\n",
              "      <td>32.435186</td>\n",
              "      <td>32.162601</td>\n",
              "      <td>32.365565</td>\n",
              "      <td>81029704</td>\n",
              "      <td>0.0</td>\n",
              "      <td>1.0</td>\n",
              "    </tr>\n",
              "  </tbody>\n",
              "</table>\n",
              "</div>\n",
              "      <button class=\"colab-df-convert\" onclick=\"convertToInteractive('df-122a9777-dcbf-42e6-be32-5251f1a46144')\"\n",
              "              title=\"Convert this dataframe to an interactive table.\"\n",
              "              style=\"display:none;\">\n",
              "        \n",
              "  <svg xmlns=\"http://www.w3.org/2000/svg\" height=\"24px\"viewBox=\"0 0 24 24\"\n",
              "       width=\"24px\">\n",
              "    <path d=\"M0 0h24v24H0V0z\" fill=\"none\"/>\n",
              "    <path d=\"M18.56 5.44l.94 2.06.94-2.06 2.06-.94-2.06-.94-.94-2.06-.94 2.06-2.06.94zm-11 1L8.5 8.5l.94-2.06 2.06-.94-2.06-.94L8.5 2.5l-.94 2.06-2.06.94zm10 10l.94 2.06.94-2.06 2.06-.94-2.06-.94-.94-2.06-.94 2.06-2.06.94z\"/><path d=\"M17.41 7.96l-1.37-1.37c-.4-.4-.92-.59-1.43-.59-.52 0-1.04.2-1.43.59L10.3 9.45l-7.72 7.72c-.78.78-.78 2.05 0 2.83L4 21.41c.39.39.9.59 1.41.59.51 0 1.02-.2 1.41-.59l7.78-7.78 2.81-2.81c.8-.78.8-2.07 0-2.86zM5.41 20L4 18.59l7.72-7.72 1.47 1.35L5.41 20z\"/>\n",
              "  </svg>\n",
              "      </button>\n",
              "      \n",
              "  <style>\n",
              "    .colab-df-container {\n",
              "      display:flex;\n",
              "      flex-wrap:wrap;\n",
              "      gap: 12px;\n",
              "    }\n",
              "\n",
              "    .colab-df-convert {\n",
              "      background-color: #E8F0FE;\n",
              "      border: none;\n",
              "      border-radius: 50%;\n",
              "      cursor: pointer;\n",
              "      display: none;\n",
              "      fill: #1967D2;\n",
              "      height: 32px;\n",
              "      padding: 0 0 0 0;\n",
              "      width: 32px;\n",
              "    }\n",
              "\n",
              "    .colab-df-convert:hover {\n",
              "      background-color: #E2EBFA;\n",
              "      box-shadow: 0px 1px 2px rgba(60, 64, 67, 0.3), 0px 1px 3px 1px rgba(60, 64, 67, 0.15);\n",
              "      fill: #174EA6;\n",
              "    }\n",
              "\n",
              "    [theme=dark] .colab-df-convert {\n",
              "      background-color: #3B4455;\n",
              "      fill: #D2E3FC;\n",
              "    }\n",
              "\n",
              "    [theme=dark] .colab-df-convert:hover {\n",
              "      background-color: #434B5C;\n",
              "      box-shadow: 0px 1px 3px 1px rgba(0, 0, 0, 0.15);\n",
              "      filter: drop-shadow(0px 1px 2px rgba(0, 0, 0, 0.3));\n",
              "      fill: #FFFFFF;\n",
              "    }\n",
              "  </style>\n",
              "\n",
              "      <script>\n",
              "        const buttonEl =\n",
              "          document.querySelector('#df-122a9777-dcbf-42e6-be32-5251f1a46144 button.colab-df-convert');\n",
              "        buttonEl.style.display =\n",
              "          google.colab.kernel.accessAllowed ? 'block' : 'none';\n",
              "\n",
              "        async function convertToInteractive(key) {\n",
              "          const element = document.querySelector('#df-122a9777-dcbf-42e6-be32-5251f1a46144');\n",
              "          const dataTable =\n",
              "            await google.colab.kernel.invokeFunction('convertToInteractive',\n",
              "                                                     [key], {});\n",
              "          if (!dataTable) return;\n",
              "\n",
              "          const docLinkHtml = 'Like what you see? Visit the ' +\n",
              "            '<a target=\"_blank\" href=https://colab.research.google.com/notebooks/data_table.ipynb>data table notebook</a>'\n",
              "            + ' to learn more about interactive tables.';\n",
              "          element.innerHTML = '';\n",
              "          dataTable['output_type'] = 'display_data';\n",
              "          await google.colab.output.renderOutput(dataTable, element);\n",
              "          const docLink = document.createElement('div');\n",
              "          docLink.innerHTML = docLinkHtml;\n",
              "          element.appendChild(docLink);\n",
              "        }\n",
              "      </script>\n",
              "    </div>\n",
              "  </div>\n",
              "  "
            ],
            "text/plain": [
              "  symbol                       date   close  ...  adjVolume  divCash  splitFactor\n",
              "0   AAPL  2017-02-21 00:00:00+00:00  136.70  ...   98028624      0.0          1.0\n",
              "1   AAPL  2017-02-22 00:00:00+00:00  137.11  ...   83347728      0.0          1.0\n",
              "2   AAPL  2017-02-23 00:00:00+00:00  136.53  ...   83152744      0.0          1.0\n",
              "3   AAPL  2017-02-24 00:00:00+00:00  136.66  ...   87106340      0.0          1.0\n",
              "4   AAPL  2017-02-27 00:00:00+00:00  136.93  ...   81029704      0.0          1.0\n",
              "\n",
              "[5 rows x 14 columns]"
            ]
          },
          "metadata": {},
          "execution_count": 6
        }
      ]
    },
    {
      "cell_type": "code",
      "source": [
        "df2.tail()"
      ],
      "metadata": {
        "colab": {
          "base_uri": "https://localhost:8080/",
          "height": 206
        },
        "id": "-haTjSLb-_r6",
        "outputId": "5f1713db-641a-47ba-b554-19326c32b103"
      },
      "execution_count": null,
      "outputs": [
        {
          "output_type": "execute_result",
          "data": {
            "text/html": [
              "\n",
              "  <div id=\"df-87bead14-9b22-4f3d-afb1-915194764a22\">\n",
              "    <div class=\"colab-df-container\">\n",
              "      <div>\n",
              "<style scoped>\n",
              "    .dataframe tbody tr th:only-of-type {\n",
              "        vertical-align: middle;\n",
              "    }\n",
              "\n",
              "    .dataframe tbody tr th {\n",
              "        vertical-align: top;\n",
              "    }\n",
              "\n",
              "    .dataframe thead th {\n",
              "        text-align: right;\n",
              "    }\n",
              "</style>\n",
              "<table border=\"1\" class=\"dataframe\">\n",
              "  <thead>\n",
              "    <tr style=\"text-align: right;\">\n",
              "      <th></th>\n",
              "      <th>symbol</th>\n",
              "      <th>date</th>\n",
              "      <th>close</th>\n",
              "      <th>high</th>\n",
              "      <th>low</th>\n",
              "      <th>open</th>\n",
              "      <th>volume</th>\n",
              "      <th>adjClose</th>\n",
              "      <th>adjHigh</th>\n",
              "      <th>adjLow</th>\n",
              "      <th>adjOpen</th>\n",
              "      <th>adjVolume</th>\n",
              "      <th>divCash</th>\n",
              "      <th>splitFactor</th>\n",
              "    </tr>\n",
              "  </thead>\n",
              "  <tbody>\n",
              "    <tr>\n",
              "      <th>1253</th>\n",
              "      <td>AAPL</td>\n",
              "      <td>2022-02-10 00:00:00+00:00</td>\n",
              "      <td>172.12</td>\n",
              "      <td>175.48</td>\n",
              "      <td>171.55</td>\n",
              "      <td>174.14</td>\n",
              "      <td>90865899</td>\n",
              "      <td>172.12</td>\n",
              "      <td>175.48</td>\n",
              "      <td>171.55</td>\n",
              "      <td>174.14</td>\n",
              "      <td>90865899</td>\n",
              "      <td>0.0</td>\n",
              "      <td>1.0</td>\n",
              "    </tr>\n",
              "    <tr>\n",
              "      <th>1254</th>\n",
              "      <td>AAPL</td>\n",
              "      <td>2022-02-11 00:00:00+00:00</td>\n",
              "      <td>168.64</td>\n",
              "      <td>173.08</td>\n",
              "      <td>168.04</td>\n",
              "      <td>172.33</td>\n",
              "      <td>98670687</td>\n",
              "      <td>168.64</td>\n",
              "      <td>173.08</td>\n",
              "      <td>168.04</td>\n",
              "      <td>172.33</td>\n",
              "      <td>98670687</td>\n",
              "      <td>0.0</td>\n",
              "      <td>1.0</td>\n",
              "    </tr>\n",
              "    <tr>\n",
              "      <th>1255</th>\n",
              "      <td>AAPL</td>\n",
              "      <td>2022-02-14 00:00:00+00:00</td>\n",
              "      <td>168.88</td>\n",
              "      <td>169.58</td>\n",
              "      <td>166.56</td>\n",
              "      <td>167.37</td>\n",
              "      <td>86185530</td>\n",
              "      <td>168.88</td>\n",
              "      <td>169.58</td>\n",
              "      <td>166.56</td>\n",
              "      <td>167.37</td>\n",
              "      <td>86185530</td>\n",
              "      <td>0.0</td>\n",
              "      <td>1.0</td>\n",
              "    </tr>\n",
              "    <tr>\n",
              "      <th>1256</th>\n",
              "      <td>AAPL</td>\n",
              "      <td>2022-02-15 00:00:00+00:00</td>\n",
              "      <td>172.79</td>\n",
              "      <td>172.95</td>\n",
              "      <td>170.25</td>\n",
              "      <td>170.97</td>\n",
              "      <td>64286320</td>\n",
              "      <td>172.79</td>\n",
              "      <td>172.95</td>\n",
              "      <td>170.25</td>\n",
              "      <td>170.97</td>\n",
              "      <td>64286320</td>\n",
              "      <td>0.0</td>\n",
              "      <td>1.0</td>\n",
              "    </tr>\n",
              "    <tr>\n",
              "      <th>1257</th>\n",
              "      <td>AAPL</td>\n",
              "      <td>2022-02-16 00:00:00+00:00</td>\n",
              "      <td>172.55</td>\n",
              "      <td>173.34</td>\n",
              "      <td>170.05</td>\n",
              "      <td>171.85</td>\n",
              "      <td>61177398</td>\n",
              "      <td>172.55</td>\n",
              "      <td>173.34</td>\n",
              "      <td>170.05</td>\n",
              "      <td>171.85</td>\n",
              "      <td>61177398</td>\n",
              "      <td>0.0</td>\n",
              "      <td>1.0</td>\n",
              "    </tr>\n",
              "  </tbody>\n",
              "</table>\n",
              "</div>\n",
              "      <button class=\"colab-df-convert\" onclick=\"convertToInteractive('df-87bead14-9b22-4f3d-afb1-915194764a22')\"\n",
              "              title=\"Convert this dataframe to an interactive table.\"\n",
              "              style=\"display:none;\">\n",
              "        \n",
              "  <svg xmlns=\"http://www.w3.org/2000/svg\" height=\"24px\"viewBox=\"0 0 24 24\"\n",
              "       width=\"24px\">\n",
              "    <path d=\"M0 0h24v24H0V0z\" fill=\"none\"/>\n",
              "    <path d=\"M18.56 5.44l.94 2.06.94-2.06 2.06-.94-2.06-.94-.94-2.06-.94 2.06-2.06.94zm-11 1L8.5 8.5l.94-2.06 2.06-.94-2.06-.94L8.5 2.5l-.94 2.06-2.06.94zm10 10l.94 2.06.94-2.06 2.06-.94-2.06-.94-.94-2.06-.94 2.06-2.06.94z\"/><path d=\"M17.41 7.96l-1.37-1.37c-.4-.4-.92-.59-1.43-.59-.52 0-1.04.2-1.43.59L10.3 9.45l-7.72 7.72c-.78.78-.78 2.05 0 2.83L4 21.41c.39.39.9.59 1.41.59.51 0 1.02-.2 1.41-.59l7.78-7.78 2.81-2.81c.8-.78.8-2.07 0-2.86zM5.41 20L4 18.59l7.72-7.72 1.47 1.35L5.41 20z\"/>\n",
              "  </svg>\n",
              "      </button>\n",
              "      \n",
              "  <style>\n",
              "    .colab-df-container {\n",
              "      display:flex;\n",
              "      flex-wrap:wrap;\n",
              "      gap: 12px;\n",
              "    }\n",
              "\n",
              "    .colab-df-convert {\n",
              "      background-color: #E8F0FE;\n",
              "      border: none;\n",
              "      border-radius: 50%;\n",
              "      cursor: pointer;\n",
              "      display: none;\n",
              "      fill: #1967D2;\n",
              "      height: 32px;\n",
              "      padding: 0 0 0 0;\n",
              "      width: 32px;\n",
              "    }\n",
              "\n",
              "    .colab-df-convert:hover {\n",
              "      background-color: #E2EBFA;\n",
              "      box-shadow: 0px 1px 2px rgba(60, 64, 67, 0.3), 0px 1px 3px 1px rgba(60, 64, 67, 0.15);\n",
              "      fill: #174EA6;\n",
              "    }\n",
              "\n",
              "    [theme=dark] .colab-df-convert {\n",
              "      background-color: #3B4455;\n",
              "      fill: #D2E3FC;\n",
              "    }\n",
              "\n",
              "    [theme=dark] .colab-df-convert:hover {\n",
              "      background-color: #434B5C;\n",
              "      box-shadow: 0px 1px 3px 1px rgba(0, 0, 0, 0.15);\n",
              "      filter: drop-shadow(0px 1px 2px rgba(0, 0, 0, 0.3));\n",
              "      fill: #FFFFFF;\n",
              "    }\n",
              "  </style>\n",
              "\n",
              "      <script>\n",
              "        const buttonEl =\n",
              "          document.querySelector('#df-87bead14-9b22-4f3d-afb1-915194764a22 button.colab-df-convert');\n",
              "        buttonEl.style.display =\n",
              "          google.colab.kernel.accessAllowed ? 'block' : 'none';\n",
              "\n",
              "        async function convertToInteractive(key) {\n",
              "          const element = document.querySelector('#df-87bead14-9b22-4f3d-afb1-915194764a22');\n",
              "          const dataTable =\n",
              "            await google.colab.kernel.invokeFunction('convertToInteractive',\n",
              "                                                     [key], {});\n",
              "          if (!dataTable) return;\n",
              "\n",
              "          const docLinkHtml = 'Like what you see? Visit the ' +\n",
              "            '<a target=\"_blank\" href=https://colab.research.google.com/notebooks/data_table.ipynb>data table notebook</a>'\n",
              "            + ' to learn more about interactive tables.';\n",
              "          element.innerHTML = '';\n",
              "          dataTable['output_type'] = 'display_data';\n",
              "          await google.colab.output.renderOutput(dataTable, element);\n",
              "          const docLink = document.createElement('div');\n",
              "          docLink.innerHTML = docLinkHtml;\n",
              "          element.appendChild(docLink);\n",
              "        }\n",
              "      </script>\n",
              "    </div>\n",
              "  </div>\n",
              "  "
            ],
            "text/plain": [
              "     symbol                       date   close  ...  adjVolume  divCash  splitFactor\n",
              "1253   AAPL  2022-02-10 00:00:00+00:00  172.12  ...   90865899      0.0          1.0\n",
              "1254   AAPL  2022-02-11 00:00:00+00:00  168.64  ...   98670687      0.0          1.0\n",
              "1255   AAPL  2022-02-14 00:00:00+00:00  168.88  ...   86185530      0.0          1.0\n",
              "1256   AAPL  2022-02-15 00:00:00+00:00  172.79  ...   64286320      0.0          1.0\n",
              "1257   AAPL  2022-02-16 00:00:00+00:00  172.55  ...   61177398      0.0          1.0\n",
              "\n",
              "[5 rows x 14 columns]"
            ]
          },
          "metadata": {},
          "execution_count": 7
        }
      ]
    },
    {
      "cell_type": "code",
      "source": [
        "df1=df2.reset_index()['close']"
      ],
      "metadata": {
        "id": "xY08WlPS-n7p"
      },
      "execution_count": null,
      "outputs": []
    },
    {
      "cell_type": "code",
      "source": [
        "df1.shape"
      ],
      "metadata": {
        "colab": {
          "base_uri": "https://localhost:8080/"
        },
        "id": "WOQzA523-vy_",
        "outputId": "234922a8-2368-4361-d46c-49aeda376ce0"
      },
      "execution_count": null,
      "outputs": [
        {
          "output_type": "execute_result",
          "data": {
            "text/plain": [
              "(1258,)"
            ]
          },
          "metadata": {},
          "execution_count": 9
        }
      ]
    },
    {
      "cell_type": "code",
      "source": [
        "import matplotlib.pyplot as plt"
      ],
      "metadata": {
        "id": "Rlr9wFR8_QQ9"
      },
      "execution_count": null,
      "outputs": []
    },
    {
      "cell_type": "code",
      "source": [
        "plt.plot(df1)"
      ],
      "metadata": {
        "colab": {
          "base_uri": "https://localhost:8080/",
          "height": 282
        },
        "id": "WvKeCLDL_dI0",
        "outputId": "29d8142f-057f-4b8d-c0f0-b23702361c95"
      },
      "execution_count": null,
      "outputs": [
        {
          "output_type": "execute_result",
          "data": {
            "text/plain": [
              "[<matplotlib.lines.Line2D at 0x7f55c6689dd0>]"
            ]
          },
          "metadata": {},
          "execution_count": 11
        },
        {
          "output_type": "display_data",
          "data": {
            "image/png": "[encoded data removed]",
            "text/plain": [
              "<Figure size 432x288 with 1 Axes>"
            ]
          },
          "metadata": {
            "needs_background": "light"
          }
        }
      ]
    },
    {
      "cell_type": "code",
      "source": [
        "import numpy as np"
      ],
      "metadata": {
        "id": "bLuJIRHk_mxe"
      },
      "execution_count": null,
      "outputs": []
    },
    {
      "cell_type": "code",
      "source": [
        "from sklearn.preprocessing import MinMaxScaler \n",
        "sc=MinMaxScaler()\n",
        "df1=sc.fit_transform(np.array(df1).reshape(-1,1))"
      ],
      "metadata": {
        "id": "tQWITPgZ_uCn"
      },
      "execution_count": null,
      "outputs": []
    },
    {
      "cell_type": "code",
      "source": [
        "df1"
      ],
      "metadata": {
        "colab": {
          "base_uri": "https://localhost:8080/"
        },
        "id": "mptixjZv_4lj",
        "outputId": "28442561-1b26-41d7-a1f2-61455bd5bc61"
      },
      "execution_count": null,
      "outputs": [
        {
          "output_type": "execute_result",
          "data": {
            "text/plain": [
              "array([[0.07479023],\n",
              "       [0.07581716],\n",
              "       [0.07436443],\n",
              "       ...,\n",
              "       [0.15539136],\n",
              "       [0.16518472],\n",
              "       [0.16458359]])"
            ]
          },
          "metadata": {},
          "execution_count": 14
        }
      ]
    },
    {
      "cell_type": "code",
      "source": [
        "training_data=int(len(df1)*0.7)\n",
        "testing_data=int(len(df1)-training_data)\n"
      ],
      "metadata": {
        "id": "9Cc7qQuAAUE8"
      },
      "execution_count": null,
      "outputs": []
    },
    {
      "cell_type": "code",
      "source": [
        "train_data,test_data=df1[0:training_data,:],df1[training_data:len(df1),:]"
      ],
      "metadata": {
        "id": "QFV4avc-Cvt1"
      },
      "execution_count": null,
      "outputs": []
    },
    {
      "cell_type": "code",
      "source": [
        "def create_dataset(dataset,time_step=1):\n",
        "  data_x=[]\n",
        "  data_y=[]\n",
        "\n",
        "  for i in range(len(dataset)-time_step-1):\n",
        "   a=dataset[i:(i+time_step),0]\n",
        "   data_x.append(a)\n",
        "   data_y.append(dataset[i+time_step,0])\n",
        "\n",
        "   return np.array(data_x),np.array(data_y)"
      ],
      "metadata": {
        "id": "4KBJWOHND06X"
      },
      "execution_count": null,
      "outputs": []
    },
    {
      "cell_type": "code",
      "source": [
        "time_step=100\n",
        "X_train,Y_train=create_dataset(train_data,time_step)\n",
        "X_test,Y_test=create_dataset(test_data,time_step)\n"
      ],
      "metadata": {
        "id": "nD2bs4u1H7-x"
      },
      "execution_count": null,
      "outputs": []
    },
    {
      "cell_type": "code",
      "source": [
        "X_train=X_train.reshape(X_train.shape[0],X_train.shape[1],1)\n",
        "X_test=X_test.reshape(X_test.shape[0],X_test.shape[1],1)"
      ],
      "metadata": {
        "id": "K79ypCXkYHgl"
      },
      "execution_count": null,
      "outputs": []
    },
    {
      "cell_type": "code",
      "source": [
        "X_train"
      ],
      "metadata": {
        "colab": {
          "base_uri": "https://localhost:8080/"
        },
        "id": "wMHsctDGZ4uG",
        "outputId": "f79e05ce-2ecf-4700-9859-c8b046b12103"
      },
      "execution_count": null,
      "outputs": [
        {
          "output_type": "execute_result",
          "data": {
            "text/plain": [
              "array([[[0.07479023],\n",
              "        [0.07581716],\n",
              "        [0.07436443],\n",
              "        [0.07469004],\n",
              "        [0.07536631],\n",
              "        [0.07551659],\n",
              "        [0.08252974],\n",
              "        [0.08045085],\n",
              "        [0.0825047 ],\n",
              "        [0.08140263],\n",
              "        [0.08185348],\n",
              "        [0.08055103],\n",
              "        [0.07974953],\n",
              "        [0.08090169],\n",
              "        [0.08105197],\n",
              "        [0.08052599],\n",
              "        [0.08420789],\n",
              "        [0.08478397],\n",
              "        [0.08303068],\n",
              "        [0.08671259],\n",
              "        [0.08265498],\n",
              "        [0.0866124 ],\n",
              "        [0.08536005],\n",
              "        [0.08465874],\n",
              "        [0.08525986],\n",
              "        [0.09257358],\n",
              "        [0.09337508],\n",
              "        [0.09289919],\n",
              "        [0.09222292],\n",
              "        [0.09232311],\n",
              "        [0.09500313],\n",
              "        [0.09312461],\n",
              "        [0.09222292],\n",
              "        [0.09142142],\n",
              "        [0.09099562],\n",
              "        [0.08713838],\n",
              "        [0.08756418],\n",
              "        [0.08568566],\n",
              "        [0.08763932],\n",
              "        [0.08606137],\n",
              "        [0.08475892],\n",
              "        [0.08916719],\n",
              "        [0.08874139],\n",
              "        [0.09217282],\n",
              "        [0.094402  ],\n",
              "        [0.09227301],\n",
              "        [0.09254853],\n",
              "        [0.09219787],\n",
              "        [0.09953663],\n",
              "        [0.101866  ],\n",
              "        [0.10073889],\n",
              "        [0.0994114 ],\n",
              "        [0.10549781],\n",
              "        [0.11564183],\n",
              "        [0.11809643],\n",
              "        [0.116268  ],\n",
              "        [0.11799624],\n",
              "        [0.12338134],\n",
              "        [0.12237946],\n",
              "        [0.12180338],\n",
              "        [0.10872887],\n",
              "        [0.11446462],\n",
              "        [0.11576706],\n",
              "        [0.11809643],\n",
              "        [0.11762054],\n",
              "        [0.11646838],\n",
              "        [0.11779587],\n",
              "        [0.11714465],\n",
              "        [0.11729493],\n",
              "        [0.11501565],\n",
              "        [0.11606763],\n",
              "        [0.12175329],\n",
              "        [0.11794615],\n",
              "        [0.11924859],\n",
              "        [0.12155291],\n",
              "        [0.12060113],\n",
              "        [0.1055479 ],\n",
              "        [0.09663118],\n",
              "        [0.09956168],\n",
              "        [0.09597996],\n",
              "        [0.09380088],\n",
              "        [0.08874139],\n",
              "        [0.0989355 ],\n",
              "        [0.09560426],\n",
              "        [0.0977583 ],\n",
              "        [0.09715717],\n",
              "        [0.09878522],\n",
              "        [0.09763306],\n",
              "        [0.09239825],\n",
              "        [0.09765811],\n",
              "        [0.09227301],\n",
              "        [0.09312461],\n",
              "        [0.09182217],\n",
              "        [0.09329994],\n",
              "        [0.08989355],\n",
              "        [0.09352536],\n",
              "        [0.09572949],\n",
              "        [0.0969067 ],\n",
              "        [0.09743269],\n",
              "        [0.10251722]]])"
            ]
          },
          "metadata": {},
          "execution_count": 20
        }
      ]
    },
    {
      "cell_type": "code",
      "source": [
        "print(X_train.shape), print(Y_train.shape)\n"
      ],
      "metadata": {
        "colab": {
          "base_uri": "https://localhost:8080/"
        },
        "id": "P5O1_oivaK6l",
        "outputId": "f5e2ee8b-609e-4bca-d396-63b2bab6a141"
      },
      "execution_count": null,
      "outputs": [
        {
          "output_type": "stream",
          "name": "stdout",
          "text": [
            "(1, 100, 1)\n",
            "(1,)\n"
          ]
        },
        {
          "output_type": "execute_result",
          "data": {
            "text/plain": [
              "(None, None)"
            ]
          },
          "metadata": {},
          "execution_count": 21
        }
      ]
    },
    {
      "cell_type": "code",
      "source": [
        "### Create the Stacked LSTM model\n",
        "from tensorflow.keras.models import Sequential\n",
        "from tensorflow.keras.layers import Dense\n",
        "from tensorflow.keras.layers import LSTM"
      ],
      "metadata": {
        "id": "5k6hXdvxakbA"
      },
      "execution_count": null,
      "outputs": []
    },
    {
      "cell_type": "code",
      "source": [
        "model=Sequential()\n",
        "model.add(LSTM(50,return_sequences=True,input_shape=(100,1)))\n",
        "model.add(LSTM(50,return_sequences=True))\n",
        "model.add(LSTM(50))\n",
        "model.add(Dense(1))\n",
        "model.compile(loss='mean_squared_error',optimizer='adam')"
      ],
      "metadata": {
        "id": "imM__EeLars_"
      },
      "execution_count": null,
      "outputs": []
    },
    {
      "cell_type": "code",
      "source": [
        "model.summary()"
      ],
      "metadata": {
        "colab": {
          "base_uri": "https://localhost:8080/"
        },
        "id": "JmCDeqMQawO_",
        "outputId": "90802542-231e-4323-8390-4f488f0dcedf"
      },
      "execution_count": null,
      "outputs": [
        {
          "output_type": "stream",
          "name": "stdout",
          "text": [
            "Model: \"sequential\"\n",
            "_________________________________________________________________\n",
            " Layer (type)                Output Shape              Param #   \n",
            "=================================================================\n",
            " lstm (LSTM)                 (None, 100, 50)           10400     \n",
            "                                                                 \n",
            " lstm_1 (LSTM)               (None, 100, 50)           20200     \n",
            "                                                                 \n",
            " lstm_2 (LSTM)               (None, 50)                20200     \n",
            "                                                                 \n",
            " dense (Dense)               (None, 1)                 51        \n",
            "                                                                 \n",
            "=================================================================\n",
            "Total params: 50,851\n",
            "Trainable params: 50,851\n",
            "Non-trainable params: 0\n",
            "_________________________________________________________________\n"
          ]
        }
      ]
    },
    {
      "cell_type": "code",
      "source": [
        "model.fit(X_train,Y_train,validation_data=(X_test,Y_test),epochs=100,batch_size=64,verbose=1)\n"
      ],
      "metadata": {
        "colab": {
          "base_uri": "https://localhost:8080/"
        },
        "id": "PqJDlkcRay2Z",
        "outputId": "a85d3645-8928-43bd-c524-5a7ff54f7a6b"
      },
      "execution_count": null,
      "outputs": [
        {
          "output_type": "stream",
          "name": "stdout",
          "text": [
            "Epoch 1/100\n",
            "1/1 [==============================] - 22s 22s/step - loss: 0.0100 - val_loss: 4.3645e-04\n",
            "Epoch 2/100\n",
            "1/1 [==============================] - 0s 288ms/step - loss: 0.0040 - val_loss: 1.6509e-04\n",
            "Epoch 3/100\n",
            "1/1 [==============================] - 0s 249ms/step - loss: 5.3902e-04 - val_loss: 0.0026\n",
            "Epoch 4/100\n",
            "1/1 [==============================] - 0s 251ms/step - loss: 5.0399e-04 - val_loss: 0.0050\n",
            "Epoch 5/100\n",
            "1/1 [==============================] - 0s 226ms/step - loss: 0.0021 - val_loss: 0.0044\n",
            "Epoch 6/100\n",
            "1/1 [==============================] - 0s 212ms/step - loss: 0.0016 - val_loss: 0.0028\n",
            "Epoch 7/100\n",
            "1/1 [==============================] - 0s 322ms/step - loss: 5.5135e-04 - val_loss: 0.0015\n",
            "Epoch 8/100\n",
            "1/1 [==============================] - 0s 356ms/step - loss: 2.9960e-05 - val_loss: 6.6978e-04\n",
            "Epoch 9/100\n",
            "1/1 [==============================] - 0s 257ms/step - loss: 8.7444e-05 - val_loss: 3.0222e-04\n",
            "Epoch 10/100\n",
            "1/1 [==============================] - 0s 287ms/step - loss: 3.8337e-04 - val_loss: 1.6565e-04\n",
            "Epoch 11/100\n",
            "1/1 [==============================] - 0s 206ms/step - loss: 6.3402e-04 - val_loss: 1.4138e-04\n",
            "Epoch 12/100\n",
            "1/1 [==============================] - 0s 308ms/step - loss: 7.1502e-04 - val_loss: 1.9012e-04\n",
            "Epoch 13/100\n",
            "1/1 [==============================] - 0s 449ms/step - loss: 6.2709e-04 - val_loss: 3.2036e-04\n",
            "Epoch 14/100\n",
            "1/1 [==============================] - 0s 354ms/step - loss: 4.3477e-04 - val_loss: 5.5637e-04\n",
            "Epoch 15/100\n",
            "1/1 [==============================] - 0s 215ms/step - loss: 2.2143e-04 - val_loss: 9.1352e-04\n",
            "Epoch 16/100\n",
            "1/1 [==============================] - 0s 295ms/step - loss: 6.1326e-05 - val_loss: 0.0014\n",
            "Epoch 17/100\n",
            "1/1 [==============================] - 0s 209ms/step - loss: 2.0865e-07 - val_loss: 0.0019\n",
            "Epoch 18/100\n",
            "1/1 [==============================] - 0s 239ms/step - loss: 4.0840e-05 - val_loss: 0.0024\n",
            "Epoch 19/100\n",
            "1/1 [==============================] - 0s 237ms/step - loss: 1.3944e-04 - val_loss: 0.0027\n",
            "Epoch 20/100\n",
            "1/1 [==============================] - 0s 262ms/step - loss: 2.2651e-04 - val_loss: 0.0028\n",
            "Epoch 21/100\n",
            "1/1 [==============================] - 0s 378ms/step - loss: 2.4972e-04 - val_loss: 0.0026\n",
            "Epoch 22/100\n",
            "1/1 [==============================] - 0s 356ms/step - loss: 2.0383e-04 - val_loss: 0.0024\n",
            "Epoch 23/100\n",
            "1/1 [==============================] - 0s 202ms/step - loss: 1.2239e-04 - val_loss: 0.0020\n",
            "Epoch 24/100\n",
            "1/1 [==============================] - 0s 244ms/step - loss: 4.7590e-05 - val_loss: 0.0017\n",
            "Epoch 25/100\n",
            "1/1 [==============================] - 0s 247ms/step - loss: 6.1537e-06 - val_loss: 0.0014\n",
            "Epoch 26/100\n",
            "1/1 [==============================] - 0s 304ms/step - loss: 2.6710e-06 - val_loss: 0.0012\n",
            "Epoch 27/100\n",
            "1/1 [==============================] - 0s 225ms/step - loss: 2.5604e-05 - val_loss: 0.0011\n",
            "Epoch 28/100\n",
            "1/1 [==============================] - 0s 212ms/step - loss: 5.7243e-05 - val_loss: 9.7211e-04\n",
            "Epoch 29/100\n",
            "1/1 [==============================] - 0s 243ms/step - loss: 8.1883e-05 - val_loss: 9.5189e-04\n",
            "Epoch 30/100\n",
            "1/1 [==============================] - 0s 138ms/step - loss: 9.0353e-05 - val_loss: 9.8568e-04\n",
            "Epoch 31/100\n",
            "1/1 [==============================] - 0s 152ms/step - loss: 8.1163e-05 - val_loss: 0.0011\n",
            "Epoch 32/100\n",
            "1/1 [==============================] - 0s 131ms/step - loss: 5.9207e-05 - val_loss: 0.0012\n",
            "Epoch 33/100\n",
            "1/1 [==============================] - 0s 137ms/step - loss: 3.3030e-05 - val_loss: 0.0014\n",
            "Epoch 34/100\n",
            "1/1 [==============================] - 0s 142ms/step - loss: 1.1506e-05 - val_loss: 0.0015\n",
            "Epoch 35/100\n",
            "1/1 [==============================] - 0s 140ms/step - loss: 7.8124e-07 - val_loss: 0.0017\n",
            "Epoch 36/100\n",
            "1/1 [==============================] - 0s 152ms/step - loss: 2.2834e-06 - val_loss: 0.0019\n",
            "Epoch 37/100\n",
            "1/1 [==============================] - 0s 130ms/step - loss: 1.2533e-05 - val_loss: 0.0020\n",
            "Epoch 38/100\n",
            "1/1 [==============================] - 0s 151ms/step - loss: 2.4959e-05 - val_loss: 0.0021\n",
            "Epoch 39/100\n",
            "1/1 [==============================] - 0s 134ms/step - loss: 3.3031e-05 - val_loss: 0.0021\n",
            "Epoch 40/100\n",
            "1/1 [==============================] - 0s 138ms/step - loss: 3.3177e-05 - val_loss: 0.0020\n",
            "Epoch 41/100\n",
            "1/1 [==============================] - 0s 138ms/step - loss: 2.5996e-05 - val_loss: 0.0019\n",
            "Epoch 42/100\n",
            "1/1 [==============================] - 0s 143ms/step - loss: 1.5286e-05 - val_loss: 0.0018\n",
            "Epoch 43/100\n",
            "1/1 [==============================] - 0s 153ms/step - loss: 5.7124e-06 - val_loss: 0.0017\n",
            "Epoch 44/100\n",
            "1/1 [==============================] - 0s 140ms/step - loss: 5.6721e-07 - val_loss: 0.0016\n",
            "Epoch 45/100\n",
            "1/1 [==============================] - 0s 151ms/step - loss: 6.4229e-07 - val_loss: 0.0015\n",
            "Epoch 46/100\n",
            "1/1 [==============================] - 0s 135ms/step - loss: 4.4484e-06 - val_loss: 0.0014\n",
            "Epoch 47/100\n",
            "1/1 [==============================] - 0s 158ms/step - loss: 9.3185e-06 - val_loss: 0.0014\n",
            "Epoch 48/100\n",
            "1/1 [==============================] - 0s 152ms/step - loss: 1.2719e-05 - val_loss: 0.0014\n",
            "Epoch 49/100\n",
            "1/1 [==============================] - 0s 142ms/step - loss: 1.3217e-05 - val_loss: 0.0014\n",
            "Epoch 50/100\n",
            "1/1 [==============================] - 0s 131ms/step - loss: 1.0836e-05 - val_loss: 0.0015\n",
            "Epoch 51/100\n",
            "1/1 [==============================] - 0s 138ms/step - loss: 6.7959e-06 - val_loss: 0.0015\n",
            "Epoch 52/100\n",
            "1/1 [==============================] - 0s 147ms/step - loss: 2.8332e-06 - val_loss: 0.0016\n",
            "Epoch 53/100\n",
            "1/1 [==============================] - 0s 131ms/step - loss: 4.1447e-07 - val_loss: 0.0017\n",
            "Epoch 54/100\n",
            "1/1 [==============================] - 0s 134ms/step - loss: 1.4542e-07 - val_loss: 0.0017\n",
            "Epoch 55/100\n",
            "1/1 [==============================] - 0s 133ms/step - loss: 1.6123e-06 - val_loss: 0.0018\n",
            "Epoch 56/100\n",
            "1/1 [==============================] - 0s 141ms/step - loss: 3.6934e-06 - val_loss: 0.0018\n",
            "Epoch 57/100\n",
            "1/1 [==============================] - 0s 134ms/step - loss: 5.1691e-06 - val_loss: 0.0018\n",
            "Epoch 58/100\n",
            "1/1 [==============================] - 0s 154ms/step - loss: 5.3099e-06 - val_loss: 0.0018\n",
            "Epoch 59/100\n",
            "1/1 [==============================] - 0s 146ms/step - loss: 4.1527e-06 - val_loss: 0.0018\n",
            "Epoch 60/100\n",
            "1/1 [==============================] - 0s 132ms/step - loss: 2.3575e-06 - val_loss: 0.0017\n",
            "Epoch 61/100\n",
            "1/1 [==============================] - 0s 152ms/step - loss: 7.8216e-07 - val_loss: 0.0017\n",
            "Epoch 62/100\n",
            "1/1 [==============================] - 0s 140ms/step - loss: 3.3495e-08 - val_loss: 0.0016\n",
            "Epoch 63/100\n",
            "1/1 [==============================] - 0s 128ms/step - loss: 2.2452e-07 - val_loss: 0.0016\n",
            "Epoch 64/100\n",
            "1/1 [==============================] - 0s 144ms/step - loss: 1.0130e-06 - val_loss: 0.0016\n",
            "Epoch 65/100\n",
            "1/1 [==============================] - 0s 131ms/step - loss: 1.8466e-06 - val_loss: 0.0015\n",
            "Epoch 66/100\n",
            "1/1 [==============================] - 0s 143ms/step - loss: 2.2581e-06 - val_loss: 0.0015\n",
            "Epoch 67/100\n",
            "1/1 [==============================] - 0s 142ms/step - loss: 2.0684e-06 - val_loss: 0.0016\n",
            "Epoch 68/100\n",
            "1/1 [==============================] - 0s 138ms/step - loss: 1.4199e-06 - val_loss: 0.0016\n",
            "Epoch 69/100\n",
            "1/1 [==============================] - 0s 151ms/step - loss: 6.5649e-07 - val_loss: 0.0016\n",
            "Epoch 70/100\n",
            "1/1 [==============================] - 0s 138ms/step - loss: 1.2643e-07 - val_loss: 0.0017\n",
            "Epoch 71/100\n",
            "1/1 [==============================] - 0s 142ms/step - loss: 1.1171e-08 - val_loss: 0.0017\n",
            "Epoch 72/100\n",
            "1/1 [==============================] - 0s 131ms/step - loss: 2.6042e-07 - val_loss: 0.0017\n",
            "Epoch 73/100\n",
            "1/1 [==============================] - 0s 150ms/step - loss: 6.5129e-07 - val_loss: 0.0017\n",
            "Epoch 74/100\n",
            "1/1 [==============================] - 0s 144ms/step - loss: 9.2809e-07 - val_loss: 0.0017\n",
            "Epoch 75/100\n",
            "1/1 [==============================] - 0s 133ms/step - loss: 9.3948e-07 - val_loss: 0.0017\n",
            "Epoch 76/100\n",
            "1/1 [==============================] - 0s 137ms/step - loss: 7.0082e-07 - val_loss: 0.0017\n",
            "Epoch 77/100\n",
            "1/1 [==============================] - 0s 148ms/step - loss: 3.5795e-07 - val_loss: 0.0017\n",
            "Epoch 78/100\n",
            "1/1 [==============================] - 0s 139ms/step - loss: 8.8020e-08 - val_loss: 0.0017\n",
            "Epoch 79/100\n",
            "1/1 [==============================] - 0s 138ms/step - loss: 3.4445e-10 - val_loss: 0.0016\n",
            "Epoch 80/100\n",
            "1/1 [==============================] - 0s 158ms/step - loss: 9.0572e-08 - val_loss: 0.0016\n",
            "Epoch 81/100\n",
            "1/1 [==============================] - 0s 135ms/step - loss: 2.6304e-07 - val_loss: 0.0016\n",
            "Epoch 82/100\n",
            "1/1 [==============================] - 0s 141ms/step - loss: 3.9738e-07 - val_loss: 0.0016\n",
            "Epoch 83/100\n",
            "1/1 [==============================] - 0s 137ms/step - loss: 4.1592e-07 - val_loss: 0.0016\n",
            "Epoch 84/100\n",
            "1/1 [==============================] - 0s 137ms/step - loss: 3.1761e-07 - val_loss: 0.0016\n",
            "Epoch 85/100\n",
            "1/1 [==============================] - 0s 137ms/step - loss: 1.6541e-07 - val_loss: 0.0016\n",
            "Epoch 86/100\n",
            "1/1 [==============================] - 0s 137ms/step - loss: 4.1612e-08 - val_loss: 0.0017\n",
            "Epoch 87/100\n",
            "1/1 [==============================] - 0s 144ms/step - loss: 1.0725e-10 - val_loss: 0.0017\n",
            "Epoch 88/100\n",
            "1/1 [==============================] - 0s 133ms/step - loss: 4.1251e-08 - val_loss: 0.0017\n",
            "Epoch 89/100\n",
            "1/1 [==============================] - 0s 140ms/step - loss: 1.2027e-07 - val_loss: 0.0017\n",
            "Epoch 90/100\n",
            "1/1 [==============================] - 0s 139ms/step - loss: 1.7948e-07 - val_loss: 0.0017\n",
            "Epoch 91/100\n",
            "1/1 [==============================] - 0s 133ms/step - loss: 1.8297e-07 - val_loss: 0.0017\n",
            "Epoch 92/100\n",
            "1/1 [==============================] - 0s 154ms/step - loss: 1.3320e-07 - val_loss: 0.0017\n",
            "Epoch 93/100\n",
            "1/1 [==============================] - 0s 137ms/step - loss: 6.3073e-08 - val_loss: 0.0017\n",
            "Epoch 94/100\n",
            "1/1 [==============================] - 0s 153ms/step - loss: 1.1844e-08 - val_loss: 0.0017\n",
            "Epoch 95/100\n",
            "1/1 [==============================] - 0s 155ms/step - loss: 1.3695e-09 - val_loss: 0.0016\n",
            "Epoch 96/100\n",
            "1/1 [==============================] - 0s 144ms/step - loss: 2.6573e-08 - val_loss: 0.0016\n",
            "Epoch 97/100\n",
            "1/1 [==============================] - 0s 135ms/step - loss: 6.3062e-08 - val_loss: 0.0016\n",
            "Epoch 98/100\n",
            "1/1 [==============================] - 0s 142ms/step - loss: 8.4536e-08 - val_loss: 0.0016\n",
            "Epoch 99/100\n",
            "1/1 [==============================] - 0s 136ms/step - loss: 7.8413e-08 - val_loss: 0.0016\n",
            "Epoch 100/100\n",
            "1/1 [==============================] - 0s 131ms/step - loss: 5.0706e-08 - val_loss: 0.0016\n"
          ]
        },
        {
          "output_type": "execute_result",
          "data": {
            "text/plain": [
              "<keras.callbacks.History at 0x7f554d96eb90>"
            ]
          },
          "metadata": {},
          "execution_count": 25
        }
      ]
    },
    {
      "cell_type": "code",
      "source": [
        "### Lets Do the prediction and check performance metrics\n",
        "train_predict=model.predict(X_train)\n",
        "test_predict=model.predict(X_test)"
      ],
      "metadata": {
        "id": "Pu62EOMLa-V-"
      },
      "execution_count": null,
      "outputs": []
    },
    {
      "cell_type": "code",
      "source": [
        "test_predict"
      ],
      "metadata": {
        "colab": {
          "base_uri": "https://localhost:8080/"
        },
        "id": "H-pve8zxoS8H",
        "outputId": "d1119f7f-c786-4388-8e85-491226286a1a"
      },
      "execution_count": null,
      "outputs": [
        {
          "output_type": "execute_result",
          "data": {
            "text/plain": [
              "array([[0.09559134]], dtype=float32)"
            ]
          },
          "metadata": {},
          "execution_count": 27
        }
      ]
    },
    {
      "cell_type": "code",
      "source": [
        "##Transformback to original form\n",
        "train_predict=sc.inverse_transform(train_predict)\n",
        "test_predict=sc.inverse_transform(test_predict)"
      ],
      "metadata": {
        "id": "ulVdSsPxbfDP"
      },
      "execution_count": null,
      "outputs": []
    },
    {
      "cell_type": "code",
      "source": [
        "### Calculate RMSE performance metrics\n",
        "import math\n",
        "from sklearn.metrics import mean_squared_error\n",
        "math.sqrt(mean_squared_error(Y_train,train_predict))"
      ],
      "metadata": {
        "colab": {
          "base_uri": "https://localhost:8080/"
        },
        "id": "Sg-ROnV6bjeC",
        "outputId": "f067c47a-e2be-4757-af74-96ed00fd1ed0"
      },
      "execution_count": null,
      "outputs": [
        {
          "output_type": "execute_result",
          "data": {
            "text/plain": [
              "148.87878362742825"
            ]
          },
          "metadata": {},
          "execution_count": 29
        }
      ]
    },
    {
      "cell_type": "code",
      "source": [
        "math.sqrt(mean_squared_error(Y_test,test_predict))"
      ],
      "metadata": {
        "colab": {
          "base_uri": "https://localhost:8080/"
        },
        "id": "aT6LZwYzbqpX",
        "outputId": "ec3cb36f-8bbd-4b84-e611-d1512cd158ed"
      },
      "execution_count": null,
      "outputs": [
        {
          "output_type": "execute_result",
          "data": {
            "text/plain": [
              "144.94983390526244"
            ]
          },
          "metadata": {},
          "execution_count": 30
        }
      ]
    },
    {
      "cell_type": "code",
      "source": [
        "### Plotting \n",
        "# shift train predictions for plotting\n",
        "look_back=100\n",
        "trainPredictPlot = np.empty_like(df1)\n",
        "trainPredictPlot[:, :] = np.nan\n",
        "trainPredictPlot[look_back:len(train_predict)+look_back, :] = train_predict\n",
        "# shift test predictions for plotting\n",
        "testPredictPlot = np.empty_like(df1)\n",
        "testPredictPlot[:, :] = np.nan\n",
        "testPredictPlot[len(train_predict)+(look_back*2)+1:len(df1)-1, :] = test_predict\n",
        "# plot baseline and predictions\n",
        "plt.plot(sc.inverse_transform(df1))\n",
        "plt.plot(trainPredictPlot)\n",
        "plt.plot(testPredictPlot)\n",
        "plt.show()"
      ],
      "metadata": {
        "colab": {
          "base_uri": "https://localhost:8080/",
          "height": 265
        },
        "id": "4faCNdQobwSY",
        "outputId": "2095193d-f5bf-45a8-a95b-e96949aadd85"
      },
      "execution_count": null,
      "outputs": [
        {
          "output_type": "display_data",
          "data": {
            "image/png": "[encoded data removed]",
            "text/plain": [
              "<Figure size 432x288 with 1 Axes>"
            ]
          },
          "metadata": {
            "needs_background": "light"
          }
        }
      ]
    },
    {
      "cell_type": "code",
      "source": [
        "len(test_data)"
      ],
      "metadata": {
        "colab": {
          "base_uri": "https://localhost:8080/"
        },
        "id": "2vVyQYPccAVv",
        "outputId": "7fea3f34-eec7-4a40-833e-4e8174a18283"
      },
      "execution_count": null,
      "outputs": [
        {
          "output_type": "execute_result",
          "data": {
            "text/plain": [
              "378"
            ]
          },
          "metadata": {},
          "execution_count": 32
        }
      ]
    },
    {
      "cell_type": "code",
      "source": [
        "x_input=test_data[278:].reshape(1,-1)\n",
        "x_input.shape"
      ],
      "metadata": {
        "colab": {
          "base_uri": "https://localhost:8080/"
        },
        "id": "NWkOdE8EcazW",
        "outputId": "867b7e72-9f63-4f5a-88db-d73d5ac057a7"
      },
      "execution_count": null,
      "outputs": [
        {
          "output_type": "execute_result",
          "data": {
            "text/plain": [
              "(1, 100)"
            ]
          },
          "metadata": {},
          "execution_count": 33
        }
      ]
    },
    {
      "cell_type": "code",
      "source": [
        "\n",
        "temp_input=list(x_input)\n",
        "temp_input=temp_input[0].tolist()"
      ],
      "metadata": {
        "id": "yOh7oTqaciwY"
      },
      "execution_count": null,
      "outputs": []
    },
    {
      "cell_type": "code",
      "source": [
        "# demonstrate prediction for next 10 days\n",
        "from numpy import array\n",
        "\n",
        "lst_output=[]\n",
        "n_steps=100\n",
        "i=0\n",
        "while(i<30):\n",
        "    \n",
        "    if(len(temp_input)>100):\n",
        "        #print(temp_input)\n",
        "        x_input=np.array(temp_input[1:])\n",
        "        #print(\"{} day input {}\".format(i,x_input))\n",
        "        x_input=x_input.reshape(1,-1)\n",
        "        x_input = x_input.reshape((1, n_steps, 1))\n",
        "        #print(x_input)\n",
        "        yhat = model.predict(x_input, verbose=0)\n",
        "        print(\"{} day output {}\".format(i,yhat))\n",
        "        temp_input.extend(yhat[0].tolist())\n",
        "        temp_input=temp_input[1:]\n",
        "        #print(temp_input)\n",
        "        lst_output.extend(yhat.tolist())\n",
        "        i=i+1\n",
        "    else:\n",
        "        x_input = x_input.reshape((1, n_steps,1))\n",
        "        yhat = model.predict(x_input, verbose=0)\n",
        "        print(yhat[0])\n",
        "        temp_input.extend(yhat[0].tolist())\n",
        "       # print(len(temp_input))\n",
        "        lst_output.extend(yhat.tolist())\n",
        "        i=i+1\n",
        "    \n",
        "\n",
        "print(lst_output)\n"
      ],
      "metadata": {
        "colab": {
          "base_uri": "https://localhost:8080/"
        },
        "id": "LUFKPm66ctUX",
        "outputId": "1f68a797-84bf-4280-dcbd-971f197fa517"
      },
      "execution_count": null,
      "outputs": [
        {
          "output_type": "stream",
          "name": "stdout",
          "text": [
            "[0.12136387]\n",
            "1 day output [[0.12137502]]\n",
            "2 day output [[0.12124251]]\n",
            "3 day output [[0.1209653]]\n",
            "4 day output [[0.12056126]]\n",
            "5 day output [[0.12005652]]\n",
            "6 day output [[0.1194789]]\n",
            "7 day output [[0.11885443]]\n",
            "8 day output [[0.11820551]]\n",
            "9 day output [[0.11755059]]\n",
            "10 day output [[0.11690398]]\n",
            "11 day output [[0.11627623]]\n",
            "12 day output [[0.11567496]]\n",
            "13 day output [[0.11510517]]\n",
            "14 day output [[0.11456968]]\n",
            "15 day output [[0.11406996]]\n",
            "16 day output [[0.1136061]]\n",
            "17 day output [[0.11317751]]\n",
            "18 day output [[0.1127829]]\n",
            "19 day output [[0.11242057]]\n",
            "20 day output [[0.11208867]]\n",
            "21 day output [[0.11178513]]\n",
            "22 day output [[0.11150797]]\n",
            "23 day output [[0.11125508]]\n",
            "24 day output [[0.11102453]]\n",
            "25 day output [[0.11081446]]\n",
            "26 day output [[0.11062305]]\n",
            "27 day output [[0.11044875]]\n",
            "28 day output [[0.11029001]]\n",
            "29 day output [[0.11014539]]\n",
            "[[0.12136387079954147], [0.12137501686811447], [0.12124250829219818], [0.12096530199050903], [0.12056126445531845], [0.12005652487277985], [0.11947890371084213], [0.11885443329811096], [0.11820551007986069], [0.11755058914422989], [0.11690397560596466], [0.11627622693777084], [0.1156749576330185], [0.11510516703128815], [0.11456967890262604], [0.11406996101140976], [0.11360610276460648], [0.11317750811576843], [0.11278289556503296], [0.11242057383060455], [0.11208866536617279], [0.11178512871265411], [0.11150796711444855], [0.11125507950782776], [0.11102452874183655], [0.11081445962190628], [0.11062304675579071], [0.11044874787330627], [0.11029000580310822], [0.11014539003372192]]\n"
          ]
        }
      ]
    },
    {
      "cell_type": "code",
      "source": [
        "list=[0.09960443526506424, 0.0996873751282692, 0.09959787875413895, 0.09931976348161697, 0.09886905550956726, 0.09827903658151627, 0.09758943319320679, 0.09683962166309357, 0.09606470167636871, 0.09529346972703934,0.09454802423715591, 0.09384388476610184, 0.09319106489419937, 0.09259478747844696, 0.09205682575702667, 0.09157617390155792, 0.09115013480186462, 0.09077485650777817, 0.09044583886861801, 0.09015848487615585,0.08990809321403503, 0.08969026803970337, 0.08950100094079971, 0.0893365666270256, 0.08919375389814377, 0.08906961232423782, 0.08896169066429138, 0.08886777609586716, 0.08878593891859055, 0.08871462196111679]"
      ],
      "metadata": {
        "id": "2QJpj4HRc1Hp"
      },
      "execution_count": null,
      "outputs": []
    },
    {
      "cell_type": "code",
      "source": [
        "df_s=pd.Series(list)"
      ],
      "metadata": {
        "id": "TA8ICLAmbJnE"
      },
      "execution_count": null,
      "outputs": []
    },
    {
      "cell_type": "code",
      "source": [
        "df=pd.DataFrame(df_s)"
      ],
      "metadata": {
        "id": "Z1dAATgKs1XJ"
      },
      "execution_count": null,
      "outputs": []
    },
    {
      "cell_type": "code",
      "source": [
        "df.hist()"
      ],
      "metadata": {
        "colab": {
          "base_uri": "https://localhost:8080/",
          "height": 316
        },
        "id": "ue4NTlXVs7g7",
        "outputId": "aa1f032a-a33d-47ba-85b4-b28074b58cb9"
      },
      "execution_count": null,
      "outputs": [
        {
          "output_type": "execute_result",
          "data": {
            "text/plain": [
              "array([[<matplotlib.axes._subplots.AxesSubplot object at 0x7f5548d29b90>]],\n",
              "      dtype=object)"
            ]
          },
          "metadata": {},
          "execution_count": 47
        },
        {
          "output_type": "display_data",
          "data": {
            "image/png": "[encoded data removed]",
            "text/plain": [
              "<Figure size 432x288 with 1 Axes>"
            ]
          },
          "metadata": {
            "needs_background": "light"
          }
        }
      ]
    },
    {
      "cell_type": "code",
      "source": [
        "df.plot()"
      ],
      "metadata": {
        "colab": {
          "base_uri": "https://localhost:8080/",
          "height": 282
        },
        "id": "rjMgcdzZs_k6",
        "outputId": "82b805e0-7339-4d3e-a108-24972d68a630"
      },
      "execution_count": null,
      "outputs": [
        {
          "output_type": "execute_result",
          "data": {
            "text/plain": [
              "<matplotlib.axes._subplots.AxesSubplot at 0x7f5548c65450>"
            ]
          },
          "metadata": {},
          "execution_count": 48
        },
        {
          "output_type": "display_data",
          "data": {
            "image/png": "[encoded data removed]",
            "text/plain": [
              "<Figure size 432x288 with 1 Axes>"
            ]
          },
          "metadata": {
            "needs_background": "light"
          }
        }
      ]
    },
    {
      "cell_type": "code",
      "source": [
        ""
      ],
      "metadata": {
        "id": "3KuzrTATtWYA"
      },
      "execution_count": null,
      "outputs": []
    }
  ]
}